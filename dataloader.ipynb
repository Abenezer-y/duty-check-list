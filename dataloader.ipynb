{
 "cells": [
  {
   "cell_type": "code",
   "execution_count": 2,
   "metadata": {},
   "outputs": [],
   "source": [
    "import pandas as pd\n",
    "from dataclasses import dataclass, asdict, replace, astuple\n",
    "import requests\n",
    "import json"
   ]
  },
  {
   "cell_type": "code",
   "execution_count": 3,
   "metadata": {},
   "outputs": [],
   "source": [
    "def submit_data(collection, docs, credential):\n",
    "    headers = {'Content-Type': 'application/json', 'Access-Control-Request-Headers': '*','api-key': credential['key']}\n",
    "    insert_url = f\"{credential['uri']}/action/insertMany\"\n",
    "    Payload = json.dumps({\"collection\": collection, \"database\": credential['db'], \"dataSource\": credential['cluster'], \"documents\": docs})\n",
    "    response = requests.request(\"POST\", insert_url, headers=headers, data=Payload)\n",
    "    return response\n",
    "    \n",
    "def get_data(collection, credential):\n",
    "    headers = {'Content-Type': 'application/json', 'Access-Control-Request-Headers': '*','api-key': credential['key']}\n",
    "    findAll_url =  f\"{credential['uri']}/action/find\"\n",
    "    Payload = json.dumps({\"collection\": collection, \"database\":credential['db'], \"dataSource\": credential['cluster'], \"filter\": {}, \"limit\":5000})\n",
    "    response = requests.request(\"POST\", findAll_url, headers=headers, data=Payload)\n",
    "    response_json = response.json()['documents']\n",
    "    df_db = pd.read_json(json.dumps(response_json))\n",
    "    return df_db\n"
   ]
  },
  {
   "cell_type": "code",
   "execution_count": 5,
   "metadata": {},
   "outputs": [],
   "source": [
    "wwl_db = {'cluster': \"BiCluster\", \n",
    "'uri': 'https://data.mongodb-api.com/app/data-wqlxh/endpoint/data/beta' ,\n",
    "'db': \"Modev\" ,\n",
    "'key': \"quuKmslQouhgHNNdtya30WaRxNhXxVcvD5WJlJ0vGmsa9Z9ZccSV4eKast0OjAHb\"}"
   ]
  },
  {
   "cell_type": "code",
   "execution_count": 4,
   "metadata": {},
   "outputs": [],
   "source": []
  },
  {
   "cell_type": "code",
   "execution_count": null,
   "metadata": {},
   "outputs": [],
   "source": [
    "@dataclass\n",
    "class Task:\n",
    "    id: int\n",
    "    check: str\n",
    "    time: str \n",
    "    activity: str\n",
    "    estimated_time: str\n",
    "    support: str \n"
   ]
  },
  {
   "cell_type": "code",
   "execution_count": null,
   "metadata": {},
   "outputs": [],
   "source": []
  },
  {
   "cell_type": "code",
   "execution_count": null,
   "metadata": {},
   "outputs": [],
   "source": []
  },
  {
   "cell_type": "code",
   "execution_count": null,
   "metadata": {},
   "outputs": [],
   "source": []
  }
 ],
 "metadata": {
  "kernelspec": {
   "display_name": "Python 3.10.6 64-bit",
   "language": "python",
   "name": "python3"
  },
  "language_info": {
   "codemirror_mode": {
    "name": "ipython",
    "version": 3
   },
   "file_extension": ".py",
   "mimetype": "text/x-python",
   "name": "python",
   "nbconvert_exporter": "python",
   "pygments_lexer": "ipython3",
   "version": "3.10.6"
  },
  "orig_nbformat": 4,
  "vscode": {
   "interpreter": {
    "hash": "d876bf01d3261e3d19da608968666802ab63526d51a9f0859bd34c85d9139b09"
   }
  }
 },
 "nbformat": 4,
 "nbformat_minor": 2
}
